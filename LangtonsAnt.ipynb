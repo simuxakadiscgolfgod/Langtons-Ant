{
  "nbformat": 4,
  "nbformat_minor": 0,
  "metadata": {
    "colab": {
      "provenance": []
    },
    "kernelspec": {
      "name": "python3",
      "display_name": "Python 3"
    },
    "language_info": {
      "name": "python"
    }
  },
  "cells": [
    {
      "cell_type": "code",
      "source": [
        "import matplotlib.pyplot as plt\n",
        "import numpy as np\n",
        "from PIL import Image\n",
        "from google.colab import output\n",
        "\n",
        "# declaring colors for pixel coloring and getting user input\n",
        "basic_colors = {'black':[0, 0, 0], 'white':[255, 255, 255], 'red':[255, 0, 0],\n",
        "                'green':[0, 128, 0], 'yellow':[255, 255, 0], 'blue':[0, 0, 255],\n",
        "                'pink':[255, 20, 147], 'gray':[128, 128, 128], 'brown':[139, 69, 19],\n",
        "                'orange':[255, 140, 0], 'purple':[128, 0, 128], 'lime':[0, 255, 0],\n",
        "                'cyan':[0, 255, 255], 'magenta':[255, 0, 255], 'silver':[192, 192, 192],\n",
        "                'maroon':[128, 0, 0], 'olive':[128, 128, 0], 'teal':[0, 128, 128],\n",
        "                'navy':[0, 0, 128]}\n",
        "\n",
        "bounds = list()\n",
        "\n",
        "print(\"Welcome to Langton's Ant Formicory!\")\n",
        "print(\"Please select the size of the formicory. An example for starters - 400x400!\\n\")\n",
        "\n",
        "while True:\n",
        "  try:\n",
        "    bounds.append(abs(int(input(\"Enter the world size in pixels (lenght): \"))))\n",
        "    bounds.append(abs(int(input(\"Enter the world size in pixels (height): \"))))\n",
        "    break\n",
        "  except ValueError:\n",
        "    print(\"The provided input is not an integer! Try again.\")\n",
        "\n",
        "poss_ans = ['y', 'n']\n",
        "poss_dir = ['up', 'right', 'left', 'down']\n",
        "poss_turn = ['left', 'right', 'l', 'r']\n",
        "poss_color = list(basic_colors.keys())\n",
        "\n",
        "print(\"\\nNow specify the direction the Ant will be facing before the journey.\")\n",
        "print(\"Possible inputs for direction: \" + str(poss_dir)[1:-1] + \".\\n\")\n",
        "\n",
        "while True:\n",
        "  dir = str(input(\"Enter the initial direction of the Ant: \"))\n",
        "  if dir in poss_dir:\n",
        "    break\n",
        "  else:\n",
        "    print(\"Incorrect input - check possible inputs for DIRECTION and try again.\")\n",
        "\n",
        "print(\"\\nLangton's Ant travels in steps. Each step consists of a color and a turn the Ant makes when it leaves a pixel.\")\n",
        "print(\"Enter desired steps in succesion or enter a 'blank' input to start the Ant's journey'.\\n\")\n",
        "print(\"Possible inputs for color: \" + str(poss_color)[1:-1] + \".\")\n",
        "print(\"Possible inputs for turns: 'r' for right or 'l' for left.\")\n",
        "\n",
        "\n",
        "step = 0\n",
        "params = dict()\n",
        "\n",
        "print(\"\\nATTENTION! The first step's color will also be the background of the image.\\n\")\n",
        "\n",
        "# tracks used colors in params\n",
        "used_colors = list()\n",
        "\n",
        "while True:\n",
        "  step += 1\n",
        "\n",
        "  while True:\n",
        "    while True:\n",
        "      color = str(input(\"Enter the COLOR for step number \" + str(step) + \": \"))\n",
        "      if color not in used_colors or color == '' or color == 'blank':\n",
        "        break\n",
        "      else:\n",
        "        print(\"This color is already in use. Choose another one or type 'blank' to run.\")\n",
        "        print(\"Available colors: \" + ', '.join(map(str, [item for item in basic_colors if item not in used_colors])) + \".\")\n",
        "\n",
        "    if color in poss_color or color == '' or color == 'blank':\n",
        "      break\n",
        "    else:\n",
        "      print(\"Incorrect input - check possible inputs for COLOR and try again.\")\n",
        "\n",
        "  if color == '' or color == 'blank':\n",
        "    break\n",
        "\n",
        "  while True:\n",
        "    turn = str(input(\"Enter the TURN for step number \" + str(step) + \": \"))\n",
        "    if turn in poss_turn or turn == '' or turn == 'blank':\n",
        "      break\n",
        "    else:\n",
        "      print(\"Incorrect input - check possible inputs for TURNS and try again.\")\n",
        "\n",
        "  if turn == '' or turn == 'blank':\n",
        "    break\n",
        "\n",
        "  params[step] = (color, turn)\n",
        "  used_colors.append(color)\n",
        "\n",
        "# visualization prompt\n",
        "print(\"\\nATTENTION! Visualization significantly slows down the journey!\")\n",
        "while True:\n",
        "    viz = str(input(\"Would you like to visualize the journey of the Ant? (y/n): \"))\n",
        "    if viz in poss_ans:\n",
        "      break\n",
        "    else:\n",
        "      print(\"Incorrect input - type 'y' for yes or 'n' for no.\")\n",
        "\n",
        "if viz == 'y':\n",
        "  while True:\n",
        "    try:\n",
        "      step_count = (abs(int(input(\"Enter which every step of the way to visualize (the bigger, the faster, but less detailed): \"))))\n",
        "      break\n",
        "    except ValueError:\n",
        "      print(\"The provided input is not an integer! Try again.\")\n",
        "\n",
        "#clears the output\n",
        "output.clear()\n",
        "\n",
        "print(\"\\nThe Ant has started it's journey!\")\n",
        "\n",
        "# creating pixel grid\n",
        "grid = np.full((bounds[0], bounds[1], 3), basic_colors.get(params.get(1)[0]))\n",
        "\n",
        "# setting the ant's position in the middle of the grid\n",
        "pos = (round(bounds[0]/2), round(bounds[1]/2))\n",
        "\n",
        "#gets new direction based on turn\n",
        "def turning(old_dir, turn):\n",
        "  if turn == 'right' or turn == 'r':\n",
        "    if old_dir == 'up':\n",
        "      new_dir = 'right'\n",
        "    elif old_dir == 'right':\n",
        "      new_dir = 'down'\n",
        "    elif old_dir == 'down':\n",
        "      new_dir = 'left'\n",
        "    else:\n",
        "      new_dir = 'up'\n",
        "  else:\n",
        "    if old_dir == 'up':\n",
        "      new_dir = 'left'\n",
        "    elif old_dir == 'left':\n",
        "      new_dir = 'down'\n",
        "    elif old_dir == 'down':\n",
        "      new_dir = 'right'\n",
        "    else:\n",
        "      new_dir = 'up'\n",
        "\n",
        "  return new_dir\n",
        "\n",
        "# used in visualization\n",
        "count = 0\n",
        "fig, ax = plt.subplots(1, 1)\n",
        "hdisplay = display(\"\", display_id=True)\n",
        "\n",
        "# running the ant until it reaches the end of the grid\n",
        "while pos[0] < bounds[0] and pos[1] < bounds[1] and pos[0] >= 0 and pos[1] >=0:\n",
        "\n",
        "  count += 1\n",
        "\n",
        "  # get color of the cell\n",
        "  color = list(basic_colors.keys())[list(basic_colors.values()).index(list(grid[pos[0]][pos[1]]))]\n",
        "\n",
        "  # get the step and turn\n",
        "  for i, k in params.items():\n",
        "    if k[0] == color:\n",
        "      step_no = i\n",
        "\n",
        "  turn = params.get(step_no)[1]\n",
        "\n",
        "  # turning the ant\n",
        "  dir = turning(dir, turn)\n",
        "\n",
        "  # coloring the cell based on provided step instructions\n",
        "  next_step = step_no + 1\n",
        "  if next_step in params:\n",
        "    grid[pos[0]][pos[1]] = basic_colors.get(params.get(next_step)[0])\n",
        "  else:\n",
        "    grid[pos[0]][pos[1]] = basic_colors.get(params.get(1)[0])\n",
        "\n",
        "  # moving the ant one pixel based on direction\n",
        "  if dir == 'up':\n",
        "    pos = (pos[0], pos[1]+1)\n",
        "\n",
        "  elif dir == 'right':\n",
        "    pos = (pos[0]+1, pos[1])\n",
        "\n",
        "  elif dir == 'left':\n",
        "    pos = (pos[0]-1, pos[1])\n",
        "\n",
        "  else:\n",
        "    pos = (pos[0], pos[1]-1)\n",
        "\n",
        " #visualization\n",
        "  if viz == 'y' and count == step_count:\n",
        "    ax.clear()\n",
        "    ax.imshow(grid)\n",
        "    ax.axis('off')\n",
        "    hdisplay.update(fig)\n",
        "    count = 0\n",
        "\n",
        "plt.close()\n",
        "print(\"The Ant has completed it's journey!\\n\")"
      ],
      "metadata": {
        "colab": {
          "base_uri": "https://localhost:8080/",
          "height": 475
        },
        "id": "KlljNE4nFcs2",
        "outputId": "d8eb117e-8064-4314-d029-f57aa6fd5410"
      },
      "execution_count": 114,
      "outputs": [
        {
          "output_type": "stream",
          "name": "stdout",
          "text": [
            "\n",
            "The Ant has started it's journey!\n"
          ]
        },
        {
          "output_type": "display_data",
          "data": {
            "text/plain": [
              "<Figure size 640x480 with 1 Axes>"
            ],
            "image/png": "[encoded data removed]"
          },
          "metadata": {}
        },
        {
          "output_type": "stream",
          "name": "stdout",
          "text": [
            "The Ant has completed it's journey!\n",
            "\n"
          ]
        }
      ]
    },
    {
      "cell_type": "code",
      "source": [
        "#sometimes the ant's journey is very long, its possible to stop the upper cell and visualize the result by running this cell at any time\n",
        "#to boost the speed, increase the visualization step or completely disable visualization\n",
        "\n",
        "#select image size and show\n",
        "print(\"Please select the size to see the image. An example for starters - 800x800!\\n\")\n",
        "img_size = list()\n",
        "\n",
        "while True:\n",
        "  try:\n",
        "    img_size.append(abs(int(input(\"Enter the image size in pixels (lenght): \"))))\n",
        "    img_size.append(abs(int(input(\"Enter the image size in pixels (height): \"))))\n",
        "    break\n",
        "  except ValueError:\n",
        "    print(\"The provided input is not an integer! Try again.\")\n",
        "\n",
        "im = Image.fromarray(np.uint8(grid)).resize((img_size[0], img_size[1]), resample=Image.NEAREST)\n",
        "display(im)"
      ],
      "metadata": {
        "colab": {
          "base_uri": "https://localhost:8080/",
          "height": 886
        },
        "id": "SYcQo1KzOpOA",
        "outputId": "5e40a7bf-e56b-479b-f50f-d219ee0705b3"
      },
      "execution_count": 115,
      "outputs": [
        {
          "name": "stdout",
          "output_type": "stream",
          "text": [
            "Please select the size to see the image. An example for starters - 800x800!\n",
            "\n",
            "Enter the image size in pixels (lenght): 800\n",
            "Enter the image size in pixels (height): 800\n"
          ]
        },
        {
          "output_type": "display_data",
          "data": {
            "text/plain": [
              "<PIL.Image.Image image mode=RGB size=800x800>"
            ],
            "image/png": "[encoded data removed]"
          },
          "metadata": {}
        }
      ]
    },
    {
      "cell_type": "code",
      "source": [
        "#image saving options\n",
        "while True:\n",
        "    ans = str(input(\"\\nWould you like to save the image? (y/n): \"))\n",
        "    if ans in poss_ans:\n",
        "      break\n",
        "    else:\n",
        "      print(\"Incorrect input - type 'y' for yes or 'n' for no.\")\n",
        "\n",
        "if ans == 'y':\n",
        "  name = str(input(\"Please type the image name: \"))\n",
        "\n",
        "  im.save(name+\".png\")\n",
        "  print(\"The image has been saved in your PATH as \" + name + \".png\")"
      ],
      "metadata": {
        "colab": {
          "base_uri": "https://localhost:8080/"
        },
        "id": "AE3EBrbIMyaL",
        "outputId": "ccb39836-816e-4d71-b85a-3c0074d4b352"
      },
      "execution_count": 116,
      "outputs": [
        {
          "output_type": "stream",
          "name": "stdout",
          "text": [
            "\n",
            "Would you like to save the image? (y/n): y\n",
            "Please type the image name: langtons_ant\n",
            "The image has been saved in your PATH as langtons_ant.png\n"
          ]
        }
      ]
    }
  ]
}
